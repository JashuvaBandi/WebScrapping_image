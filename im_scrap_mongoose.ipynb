{
 "cells": [
  {
   "cell_type": "code",
   "execution_count": 3,
   "metadata": {},
   "outputs": [],
   "source": [
    "import os\n",
    "import time\n",
    "import requests\n",
    "from selenium import webdriver"
   ]
  },
  {
   "cell_type": "code",
   "execution_count": null,
   "metadata": {},
   "outputs": [],
   "source": [
    "\n"
   ]
  },
  {
   "cell_type": "code",
   "execution_count": 5,
   "metadata": {},
   "outputs": [],
   "source": [
    "# How to execute this code\n",
    "# Step 1 : pip install selenium. pillow, requests\n",
    "# Step 2 : make sure you have chrome installed on your machine\n",
    "# Step 3 : Check your chrome version ( go to three dot then help then about google chrome )\n",
    "# Step 4 : Download the same chrome driver from here  \" https://chromedriver.storage.googleapis.com/index.html \"\n",
    "# Step 5 : put it inside the same folder of this code"
   ]
  },
  {
   "cell_type": "code",
   "execution_count": 10,
   "metadata": {},
   "outputs": [],
   "source": [
    "def fetch_image_urls(query: str, max_links_to_fetch: int, wd: webdriver, sleep_between_interactions: int = 1):\n",
    "    def scroll_to_end(wd):\n",
    "        wd.execute_script(\"window.scrollTo(0, document.body.scrollHeight);\")\n",
    "        time.sleep(sleep_between_interactions)\n",
    "\n",
    "        # build the google query\n",
    "\n",
    "    search_url = \"https://www.google.com/search?safe=off&site=&tbm=isch&source=hp&q={q}&oq={q}&gs_l=img\"\n",
    "\n",
    "    # load the page\n",
    "    wd.get(search_url.format(q=query))\n",
    "\n",
    "    image_urls = set()\n",
    "    image_count = 0\n",
    "    results_start = 0\n",
    "    while image_count < max_links_to_fetch:\n",
    "        scroll_to_end(wd)\n",
    "\n",
    "        # get all image thumbnail results\n",
    "        thumbnail_results = wd.find_elements_by_css_selector(\"img.Q4LuWd\")\n",
    "        number_results = len(thumbnail_results)\n",
    "\n",
    "        print(f\"Found: {number_results} search results. Extracting links from {results_start}:{number_results}\")\n",
    "\n",
    "        for img in thumbnail_results[results_start:number_results]:\n",
    "            # try to click every thumbnail such that we can get the real image behind it\n",
    "            try:\n",
    "                img.click()\n",
    "                time.sleep(sleep_between_interactions)\n",
    "            except Exception:\n",
    "                continue\n",
    "\n",
    "            # extract image urls\n",
    "            actual_images = wd.find_elements_by_css_selector('img.n3VNCb')\n",
    "            for actual_image in actual_images:\n",
    "                if actual_image.get_attribute('src') and 'http' in actual_image.get_attribute('src'):\n",
    "                    image_urls.add(actual_image.get_attribute('src'))\n",
    "\n",
    "            image_count = len(image_urls)\n",
    "\n",
    "            if len(image_urls) >= max_links_to_fetch:\n",
    "                print(f\"Found: {len(image_urls)} image links, done!\")\n",
    "                break\n",
    "        else:\n",
    "            print(\"Found:\", len(image_urls), \"image links, looking for more ...\")\n",
    "            time.sleep(30)\n",
    "            return\n",
    "            load_more_button = wd.find_element_by_css_selector(\".mye4qd\")\n",
    "            if load_more_button:\n",
    "                wd.execute_script(\"document.querySelector('.mye4qd').click();\")\n",
    "\n",
    "        # move the result startpoint further down\n",
    "        results_start = len(thumbnail_results)\n",
    "\n",
    "    return image_urls"
   ]
  },
  {
   "cell_type": "code",
   "execution_count": 7,
   "metadata": {},
   "outputs": [],
   "source": [
    "def persist_image(folder_path:str,url:str, counter):\n",
    "    try:\n",
    "        image_content = requests.get(url).content\n",
    "\n",
    "    except Exception as e:\n",
    "        print(f\"ERROR - Could not download {url} - {e}\")\n",
    "\n",
    "    try:\n",
    "        f = open(os.path.join(folder_path, 'jpg' + \"_\" + str(counter) + \".jpg\"), 'wb')\n",
    "        f.write(image_content)\n",
    "        f.close()\n",
    "        print(f\"SUCCESS - saved {url} - as {folder_path}\")\n",
    "    except Exception as e:\n",
    "        print(f\"ERROR - Could not save {url} - {e}\")"
   ]
  },
  {
   "cell_type": "code",
   "execution_count": 11,
   "metadata": {},
   "outputs": [],
   "source": [
    "def search_and_download(search_term: str, driver_path: str, target_path='./images', number_images=25):\n",
    "    target_folder = os.path.join(target_path, '_'.join(search_term.lower().split(' '))) # make the folder name inside images with the search string\n",
    "\n",
    "    if not os.path.exists(target_folder):\n",
    "        os.makedirs(target_folder) # make directory using the target path if it doesn't exist already\n",
    "\n",
    "    with webdriver.Chrome(executable_path=driver_path) as wd:\n",
    "        res = fetch_image_urls(search_term, number_images, wd=wd, sleep_between_interactions=0.5)\n",
    "\n",
    "    counter = 0\n",
    "    for elem in res:\n",
    "        persist_image(target_folder, elem, counter)\n",
    "        counter += 1"
   ]
  },
  {
   "cell_type": "code",
   "execution_count": 12,
   "metadata": {},
   "outputs": [
    {
     "name": "stdout",
     "output_type": "stream",
     "text": [
      "Found: 100 search results. Extracting links from 0:100\n",
      "Found: 25 image links, done!\n",
      "SUCCESS - saved https://cdn.britannica.com/98/166698-050-CAC3BED3/mongoose-adult-body-measures.jpg - as ./images\\mongoose\n",
      "SUCCESS - saved https://upload.wikimedia.org/wikipedia/commons/3/39/Mongoose_collection.png - as ./images\\mongoose\n",
      "SUCCESS - saved https://english.cdn.zeenews.com/sites/default/files/2020/08/20/880313-snake-mongoose.jpg - as ./images\\mongoose\n",
      "SUCCESS - saved https://www.thoughtco.com/thmb/ae3DQBrNbCgB7axkTp-FbQ3BtFQ=/1404x2140/filters:fill(auto,1)/mongoose-56a0243d5f9b58eba4af22e3.jpg - as ./images\\mongoose\n",
      "SUCCESS - saved https://images.immediate.co.uk/production/volatile/sites/23/2018/09/Banded-mongoose_May-2018_623-bfcb655.jpg?quality=90&resize=768,574 - as ./images\\mongoose\n",
      "SUCCESS - saved https://encrypted-tbn0.gstatic.com/images?q=tbn:ANd9GcRiapj-kHcvpH2wlbTNWB3vj_r8n__4tq13xg&usqp=CAU - as ./images\\mongoose\n",
      "SUCCESS - saved https://cdn.britannica.com/12/75112-004-41D3F0F7.jpg - as ./images\\mongoose\n",
      "SUCCESS - saved https://encrypted-tbn0.gstatic.com/images?q=tbn:ANd9GcTBHLajhiK_rUtbC2mkpO7N1_OCjo-ksoWiVg&usqp=CAU - as ./images\\mongoose\n",
      "SUCCESS - saved https://upload.wikimedia.org/wikipedia/commons/thumb/9/9a/Banded_Mongoose_Nose_Detail%2C_crop.jpg/1200px-Banded_Mongoose_Nose_Detail%2C_crop.jpg - as ./images\\mongoose\n",
      "SUCCESS - saved https://www.nationalgeographic.com/content/dam/animals/thumbs/rights-exempt/mammals/group/mongooses_thumb.JPG - as ./images\\mongoose\n",
      "SUCCESS - saved https://encrypted-tbn0.gstatic.com/images?q=tbn:ANd9GcQcW-az6t6kmvRsxJbr6cKtqfW0IKM6Y_2ehQ&usqp=CAU - as ./images\\mongoose\n",
      "SUCCESS - saved https://res.cloudinary.com/practicaldev/image/fetch/s--RJeKKZ60--/c_imagga_scale,f_auto,fl_progressive,h_420,q_auto,w_1000/https://dev-to-uploads.s3.amazonaws.com/i/9vk51gy74cktl4uc4kq7.jpeg - as ./images\\mongoose\n",
      "SUCCESS - saved https://miro.medium.com/max/1000/0*Z4sjXnhpojxvuRnM.jpg - as ./images\\mongoose\n",
      "SUCCESS - saved https://encrypted-tbn0.gstatic.com/images?q=tbn:ANd9GcQcdC3hkdLwokit8Ulf_UxoTslWmKjV3qeAvQ&usqp=CAU - as ./images\\mongoose\n",
      "SUCCESS - saved https://encrypted-tbn0.gstatic.com/images?q=tbn:ANd9GcRZQrfDWSzkODD7Ol4JzqAOw050eBfKlUBkbQ&usqp=CAU - as ./images\\mongoose\n",
      "SUCCESS - saved https://upload.wikimedia.org/wikipedia/commons/thumb/2/29/Egyptian_mongoose_eating_catfish.jpg/1200px-Egyptian_mongoose_eating_catfish.jpg - as ./images\\mongoose\n",
      "SUCCESS - saved https://www.treehugger.com/thmb/00C60kWfJjJNiAA5ikwaYqLjKQ4=/1871x1403/smart/filters:no_upscale()/yellow-mongoose-portrait-01-4873d2399cb54ea48448b0bda37bda1e.jpg - as ./images\\mongoose\n",
      "SUCCESS - saved https://images.newscientist.com/wp-content/uploads/2020/11/09165329/09-nov_mongoose-wars.jpg - as ./images\\mongoose\n",
      "SUCCESS - saved https://encrypted-tbn0.gstatic.com/images?q=tbn:ANd9GcSSerWknqBfQ5cj1nKXX6WT7JlrWH4BZxG-2g&usqp=CAU - as ./images\\mongoose\n",
      "SUCCESS - saved https://encrypted-tbn0.gstatic.com/images?q=tbn:ANd9GcRHViDZfQNMY1DhKAaI4Y5avZk6putm-t8ojQ&usqp=CAU - as ./images\\mongoose\n",
      "SUCCESS - saved https://i.ytimg.com/vi/tfHznhiztXs/maxresdefault.jpg - as ./images\\mongoose\n",
      "SUCCESS - saved https://encrypted-tbn0.gstatic.com/images?q=tbn:ANd9GcRoMLlN4LRsCbBa7LDoY6yaIDGpsH38Kf6n3g&usqp=CAU - as ./images\\mongoose\n",
      "SUCCESS - saved https://miro.medium.com/max/612/1*ZFyrLwqPUrXQD4-Ie4Y15A.jpeg - as ./images\\mongoose\n",
      "SUCCESS - saved https://www.sentinelassam.com/wp-content/uploads/2019/07/INDIAN-GREY-MONGOOSE.jpg - as ./images\\mongoose\n",
      "SUCCESS - saved https://1s2oosvtjy52xrh4r10z0zms-wpengine.netdna-ssl.com/wp-content/uploads/2019/01/cute-mongoose.jpg - as ./images\\mongoose\n"
     ]
    }
   ],
   "source": [
    "DRIVER_PATH = './chromedriver'\n",
    "search_term = 'Mongoose'\n",
    "# num of images you can pass it from here  by default it's 10 if you are not passing\n",
    "# number_images = 10\n",
    "search_and_download(search_term=search_term, driver_path=DRIVER_PATH) # method to download images"
   ]
  },
  {
   "cell_type": "code",
   "execution_count": null,
   "metadata": {},
   "outputs": [],
   "source": []
  },
  {
   "cell_type": "code",
   "execution_count": null,
   "metadata": {},
   "outputs": [],
   "source": []
  }
 ],
 "metadata": {
  "kernelspec": {
   "display_name": "Python 3",
   "language": "python",
   "name": "python3"
  },
  "language_info": {
   "codemirror_mode": {
    "name": "ipython",
    "version": 3
   },
   "file_extension": ".py",
   "mimetype": "text/x-python",
   "name": "python",
   "nbconvert_exporter": "python",
   "pygments_lexer": "ipython3",
   "version": "3.6.12"
  }
 },
 "nbformat": 4,
 "nbformat_minor": 2
}
